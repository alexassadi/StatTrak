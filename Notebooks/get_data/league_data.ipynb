{
 "cells": [
  {
   "cell_type": "code",
   "execution_count": 1,
   "id": "63aee6b3-37dd-4865-995b-eb329da67264",
   "metadata": {},
   "outputs": [],
   "source": [
    "from collections.abc import Iterable\n",
    "import pandas as pd\n",
    "from bs4 import BeautifulSoup\n",
    "import requests\n",
    "import lxml"
   ]
  },
  {
   "cell_type": "code",
   "execution_count": 2,
   "id": "9c516bdc-0a9b-4968-acd2-0195ead4a67d",
   "metadata": {},
   "outputs": [],
   "source": [
    "def get_passing_combined(soup,league_id):\n",
    "    \n",
    "    # Retrieve the table data from html text\n",
    "    table = soup.find('table', id='stats_passing_{}'.format(league_id))\n",
    "    \n",
    "    # Retrieve the column names from the table\n",
    "    headers = get_headers(table)\n",
    "    \n",
    "    # Modify headers\n",
    "    headers = headers[6:35]\n",
    "    headers[11] = 'Attt'\n",
    "    headers[14] = 'Attt'\n",
    "    headers[17] = 'Attt'\n",
    "\n",
    "    # Create DataFrame with headers\n",
    "    mydata = pd.DataFrame(columns = headers)\n",
    "\n",
    "    # Retrieve stats from the table\n",
    "    overall = get_stats(table)\n",
    "    \n",
    "    chunks = clean_data(overall,29)     \n",
    "\n",
    "    mydata = input_data(chunks,mydata)\n",
    "    \n",
    "    # Modify data and perform calculations\n",
    "    mydata = mydata.astype({'90s':'float64','Att':'int','Ast':'int','xAG':'float64'})\n",
    "    mydata['Att/90'] = mydata['Att'] / mydata['90s']\n",
    "    mydata['Ast/90'] = mydata['Ast'] / mydata['90s']\n",
    "    \n",
    "    # Create final table\n",
    "    mydata_final = mydata[['Player','90s','Ast','Att/90','Ast/90']]\n",
    "\n",
    "    return mydata_final"
   ]
  },
  {
   "cell_type": "code",
   "execution_count": null,
   "id": "1b10a08a-5624-4c51-b864-97e6ac017b54",
   "metadata": {},
   "outputs": [],
   "source": []
  }
 ],
 "metadata": {
  "kernelspec": {
   "display_name": "Python 3 (ipykernel)",
   "language": "python",
   "name": "python3"
  },
  "language_info": {
   "codemirror_mode": {
    "name": "ipython",
    "version": 3
   },
   "file_extension": ".py",
   "mimetype": "text/x-python",
   "name": "python",
   "nbconvert_exporter": "python",
   "pygments_lexer": "ipython3",
   "version": "3.11.7"
  }
 },
 "nbformat": 4,
 "nbformat_minor": 5
}
