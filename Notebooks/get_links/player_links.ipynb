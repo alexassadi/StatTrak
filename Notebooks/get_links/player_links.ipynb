{
 "cells": [
  {
   "cell_type": "code",
   "execution_count": 10,
   "id": "46bf708e-5329-4892-ad12-43712da59059",
   "metadata": {},
   "outputs": [],
   "source": [
    "from collections.abc import Iterable\n",
    "import pandas as pd\n",
    "from bs4 import BeautifulSoup\n",
    "import requests\n",
    "import lxml\n",
    "import datetime"
   ]
  },
  {
   "cell_type": "code",
   "execution_count": 14,
   "id": "91598070-3537-4fde-a19c-79b16846be83",
   "metadata": {},
   "outputs": [],
   "source": [
    "%run League_Data.ipynb"
   ]
  },
  {
   "cell_type": "code",
   "execution_count": 15,
   "id": "15cecb0e-e14b-4623-a2b4-28ce1dea55bb",
   "metadata": {},
   "outputs": [
    {
     "ename": "NameError",
     "evalue": "name 'get_league_id' is not defined",
     "output_type": "error",
     "traceback": [
      "\u001b[1;31m---------------------------------------------------------------------------\u001b[0m",
      "\u001b[1;31mNameError\u001b[0m                                 Traceback (most recent call last)",
      "Cell \u001b[1;32mIn[15], line 1\u001b[0m\n\u001b[1;32m----> 1\u001b[0m prem_link \u001b[38;5;241m=\u001b[39m get_league_id(\u001b[38;5;124m'\u001b[39m\u001b[38;5;124mPremier League\u001b[39m\u001b[38;5;124m'\u001b[39m)\n\u001b[0;32m      2\u001b[0m league_links, league_link \u001b[38;5;241m=\u001b[39m get_league_links(\u001b[38;5;124m'\u001b[39m\u001b[38;5;124mPremier League\u001b[39m\u001b[38;5;124m'\u001b[39m)\n\u001b[0;32m      3\u001b[0m url \u001b[38;5;241m=\u001b[39m league_links[team_choice]\n",
      "\u001b[1;31mNameError\u001b[0m: name 'get_league_id' is not defined"
     ]
    }
   ],
   "source": [
    "prem_link = get_league_id('Premier League')\n",
    "league_links, league_link = get_league_links('Premier League')\n",
    "url = league_links[team_choice]\n",
    "page = requests.get(url)\n",
    "soup = BeautifulSoup(page.text, 'lxml')\n",
    "table = soup.find('table', id='stats_standard_9')\n",
    "links = []\n",
    "for i in table.find_all('a'):\n",
    "    html = i.get('href')\n",
    "    if 'player' in html:\n",
    "        links.append(html)\n",
    "links_new = []\n",
    "for i in links:\n",
    "    if 'Match-Logs' in i:\n",
    "        link = 'https://fbref.com' + i\n",
    "        links_new.append(link)\n",
    "names = []\n",
    "for i in links_new:\n",
    "    split = i.split('/')\n",
    "    split2 = split[9].split('-')\n",
    "    name = []\n",
    "    for j in split2:\n",
    "        if not j in ['Match','Logs']:\n",
    "            name.append(j)\n",
    "    names.append(' '.join(name))\n",
    "player_dict = dict(zip(names, links_new))\n",
    "player_dict"
   ]
  },
  {
   "cell_type": "code",
   "execution_count": null,
   "id": "4be212cd-30dd-4a9e-9291-6e21b6b49e07",
   "metadata": {},
   "outputs": [],
   "source": []
  }
 ],
 "metadata": {
  "kernelspec": {
   "display_name": "Python 3 (ipykernel)",
   "language": "python",
   "name": "python3"
  },
  "language_info": {
   "codemirror_mode": {
    "name": "ipython",
    "version": 3
   },
   "file_extension": ".py",
   "mimetype": "text/x-python",
   "name": "python",
   "nbconvert_exporter": "python",
   "pygments_lexer": "ipython3",
   "version": "3.11.7"
  }
 },
 "nbformat": 4,
 "nbformat_minor": 5
}
