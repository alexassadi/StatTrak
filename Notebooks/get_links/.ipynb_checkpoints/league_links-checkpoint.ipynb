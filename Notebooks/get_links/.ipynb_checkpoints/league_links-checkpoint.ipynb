{
 "cells": [
  {
   "cell_type": "code",
   "execution_count": 50,
   "metadata": {},
   "outputs": [],
   "source": [
    "from collections.abc import Iterable\n",
    "import pandas as pd\n",
    "from bs4 import BeautifulSoup\n",
    "import requests\n",
    "import lxml\n",
    "import datetime"
   ]
  },
  {
   "cell_type": "code",
   "execution_count": 51,
   "metadata": {},
   "outputs": [],
   "source": [
    "league_links = {'Premier League':'/9/Premier-League-Stats',\n",
    "                'La Liga':'/12/La-Liga-Stats',\n",
    "                'Serie A':'/11/Serie-A-Stats',\n",
    "                'Ligue 1':'/13/Ligue-1-Stats',\n",
    "                'Bundesliga':'/20/Bundesliga-Stats'}\n",
    "\n",
    "table_names = {'Premier League':f'results{datetime.datetime.now().year - 1}-{datetime.datetime.now().year}91_overall',\n",
    "                'La Liga':f'results{datetime.datetime.now().year - 1}-{datetime.datetime.now().year}121_overall',\n",
    "                'Serie A':f'results{datetime.datetime.now().year - 1}-{datetime.datetime.now().year}111_overall',\n",
    "                'Ligue 1':f'results{datetime.datetime.now().year - 1}-{datetime.datetime.now().year}131_overall',\n",
    "                'Bundesliga':f'results{datetime.datetime.now().year - 1}-{datetime.datetime.now().year}201_overall'}"
   ]
  },
  {
   "cell_type": "code",
   "execution_count": 52,
   "metadata": {},
   "outputs": [
    {
     "data": {
      "text/plain": [
       "{'Premier League': '/9/Premier-League-Stats',\n",
       " 'La Liga': '/12/La-Liga-Stats',\n",
       " 'Serie A': '/11/Serie-A-Stats',\n",
       " 'Ligue 1': '/13/Ligue-1-Stats',\n",
       " 'Bundesliga': '/20/Bundesliga-Stats'}"
      ]
     },
     "execution_count": 52,
     "metadata": {},
     "output_type": "execute_result"
    }
   ],
   "source": [
    "league_links"
   ]
  },
  {
   "cell_type": "code",
   "execution_count": 53,
   "metadata": {},
   "outputs": [],
   "source": [
    "choice = \"Premier League\"\n",
    "league_link = league_links[choice]\n",
    "table_name = table_names[choice]\n",
    "url = 'https://fbref.com/en/comps' + league_link\n",
    "page = requests.get(url)\n",
    "soup = BeautifulSoup(page.text, 'lxml')\n",
    "table = soup.find('table', id=table_name)"
   ]
  },
  {
   "cell_type": "code",
   "execution_count": 54,
   "metadata": {},
   "outputs": [],
   "source": [
    "def get_league_id(choice):\n",
    "    if choice == 'Premier League':\n",
    "        return '9'\n",
    "    elif choice == 'La Liga':\n",
    "        return '12'\n",
    "    elif choice == 'Serie A':\n",
    "        return '11'\n",
    "    elif choice == 'Ligue 1':\n",
    "        return '13'\n",
    "    elif choice == 'Bundesliga':\n",
    "        return '20'"
   ]
  },
  {
   "cell_type": "code",
   "execution_count": 56,
   "metadata": {},
   "outputs": [],
   "source": [
    "def get_league_links(choice):\n",
    "    links = []\n",
    "    for i in table.find_all('a'):\n",
    "        html = i.get('href')\n",
    "        if 'squads' in html:\n",
    "            links.append(html)\n",
    "            \n",
    "    for i in range(len(links)):\n",
    "        links[i] = 'https://fbref.com' + links[i]\n",
    "        \n",
    "    links\n",
    "    \n",
    "    teams = []\n",
    "    for link in links:\n",
    "        split = link.split('/')\n",
    "        split = split[-1]\n",
    "        split = split.split('-')\n",
    "        split = split[:-1]\n",
    "        team = (' ').join(split)\n",
    "        teams.append(team)\n",
    "    teams\n",
    "    \n",
    "    team_links = {}\n",
    "    for i in range(len(teams)):\n",
    "        team_links[teams[i]] = links[i]\n",
    "    team_links\n",
    "    return team_links, url\n"
   ]
  },
  {
   "cell_type": "code",
   "execution_count": null,
   "metadata": {},
   "outputs": [],
   "source": []
  },
  {
   "cell_type": "code",
   "execution_count": null,
   "metadata": {},
   "outputs": [],
   "source": []
  }
 ],
 "metadata": {
  "kernelspec": {
   "display_name": "Python 3 (ipykernel)",
   "language": "python",
   "name": "python3"
  },
  "language_info": {
   "codemirror_mode": {
    "name": "ipython",
    "version": 3
   },
   "file_extension": ".py",
   "mimetype": "text/x-python",
   "name": "python",
   "nbconvert_exporter": "python",
   "pygments_lexer": "ipython3",
   "version": "3.11.7"
  }
 },
 "nbformat": 4,
 "nbformat_minor": 4
}
