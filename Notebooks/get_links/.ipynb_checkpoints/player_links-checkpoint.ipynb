{
 "cells": [
  {
   "cell_type": "code",
   "execution_count": 20,
   "id": "46bf708e-5329-4892-ad12-43712da59059",
   "metadata": {},
   "outputs": [],
   "source": [
    "from collections.abc import Iterable\n",
    "import pandas as pd\n",
    "from bs4 import BeautifulSoup\n",
    "import requests\n",
    "import lxml\n",
    "import datetime"
   ]
  },
  {
   "cell_type": "code",
   "execution_count": 3,
   "id": "91598070-3537-4fde-a19c-79b16846be83",
   "metadata": {},
   "outputs": [],
   "source": [
    "%run league_links.ipynb"
   ]
  },
  {
   "cell_type": "code",
   "execution_count": 4,
   "id": "2a618677-e572-4410-8ab9-8695be841696",
   "metadata": {},
   "outputs": [],
   "source": [
    "league_choice = \"Premier League\"\n",
    "team_choice = \"Manchester City\""
   ]
  },
  {
   "cell_type": "code",
   "execution_count": 5,
   "id": "15cecb0e-e14b-4623-a2b4-28ce1dea55bb",
   "metadata": {},
   "outputs": [
    {
     "data": {
      "text/plain": [
       "{'Julian Alvarez': 'https://fbref.com/en/players/15ab5a2b/matchlogs/2023-2024/summary/Julian-Alvarez-Match-Logs',\n",
       " 'Phil Foden': 'https://fbref.com/en/players/ed1e53f3/matchlogs/2023-2024/summary/Phil-Foden-Match-Logs',\n",
       " 'Rodri': 'https://fbref.com/en/players/6434f10d/matchlogs/2023-2024/summary/Rodri-Match-Logs',\n",
       " 'Ederson': 'https://fbref.com/en/players/3bb7b8b4/matchlogs/2023-2024/summary/Ederson-Match-Logs',\n",
       " 'Ruben Dias': 'https://fbref.com/en/players/31c69ef1/matchlogs/2023-2024/summary/Ruben-Dias-Match-Logs',\n",
       " 'Kyle Walker': 'https://fbref.com/en/players/86dd77d1/matchlogs/2023-2024/summary/Kyle-Walker-Match-Logs',\n",
       " 'Erling Haaland': 'https://fbref.com/en/players/1f44ac21/matchlogs/2023-2024/summary/Erling-Haaland-Match-Logs',\n",
       " 'Bernardo Silva': 'https://fbref.com/en/players/3eb22ec9/matchlogs/2023-2024/summary/Bernardo-Silva-Match-Logs',\n",
       " 'Manuel Akanji': 'https://fbref.com/en/players/89ac64a6/matchlogs/2023-2024/summary/Manuel-Akanji-Match-Logs',\n",
       " 'Josko Gvardiol': 'https://fbref.com/en/players/5ad50391/matchlogs/2023-2024/summary/Josko-Gvardiol-Match-Logs',\n",
       " 'Nathan Ake': 'https://fbref.com/en/players/eaeca114/matchlogs/2023-2024/summary/Nathan-Ake-Match-Logs',\n",
       " 'Jeremy Doku': 'https://fbref.com/en/players/fffea3e5/matchlogs/2023-2024/summary/Jeremy-Doku-Match-Logs',\n",
       " 'Mateo Kovacic': 'https://fbref.com/en/players/79c0821a/matchlogs/2023-2024/summary/Mateo-Kovacic-Match-Logs',\n",
       " 'John Stones': 'https://fbref.com/en/players/5eecec3d/matchlogs/2023-2024/summary/John-Stones-Match-Logs',\n",
       " 'Jack Grealish': 'https://fbref.com/en/players/b0b4fd3e/matchlogs/2023-2024/summary/Jack-Grealish-Match-Logs',\n",
       " 'Kevin De Bruyne': 'https://fbref.com/en/players/e46012d4/matchlogs/2023-2024/summary/Kevin-De-Bruyne-Match-Logs',\n",
       " 'Rico Lewis': 'https://fbref.com/en/players/b57e066e/matchlogs/2023-2024/summary/Rico-Lewis-Match-Logs',\n",
       " 'Matheus Nunes': 'https://fbref.com/en/players/e6af02e0/matchlogs/2023-2024/summary/Matheus-Nunes-Match-Logs',\n",
       " 'Stefan Ortega': 'https://fbref.com/en/players/c1242d4e/matchlogs/2023-2024/summary/Stefan-Ortega-Match-Logs',\n",
       " 'Oscar Bobb': 'https://fbref.com/en/players/eed2427e/matchlogs/2023-2024/summary/Oscar-Bobb-Match-Logs',\n",
       " 'Kalvin Phillips': 'https://fbref.com/en/players/4f565d77/matchlogs/2023-2024/summary/Kalvin-Phillips-Match-Logs',\n",
       " 'Sergio Gomez': 'https://fbref.com/en/players/01e5f06e/matchlogs/2023-2024/summary/Sergio-Gomez-Match-Logs',\n",
       " 'Aymeric Laporte': 'https://fbref.com/en/players/119b9a8e/matchlogs/2023-2024/summary/Aymeric-Laporte-Match-Logs',\n",
       " 'Cole Palmer': 'https://fbref.com/en/players/dc7f8a28/matchlogs/2023-2024/summary/Cole-Palmer-Match-Logs',\n",
       " 'James Mcatee': 'https://fbref.com/en/players/96593e89/matchlogs/2023-2024/summary/James-Mcatee-Match-Logs'}"
      ]
     },
     "execution_count": 5,
     "metadata": {},
     "output_type": "execute_result"
    }
   ],
   "source": [
    "get_player_links(league_choice, team_choice):\n",
    "    prem_link = get_league_id(league_choice)\n",
    "    league_links, league_link = get_league_links(league_choice)\n",
    "    url = league_links[team_choice]\n",
    "    page = requests.get(url)\n",
    "    soup = BeautifulSoup(page.text, 'lxml')\n",
    "    table = soup.find('table', id='stats_standard_9')\n",
    "    links = []\n",
    "    for i in table.find_all('a'):\n",
    "        html = i.get('href')\n",
    "        if 'player' in html:\n",
    "            links.append(html)\n",
    "    links_new = []\n",
    "    for i in links:\n",
    "        if 'Match-Logs' in i:\n",
    "            link = 'https://fbref.com' + i\n",
    "            links_new.append(link)\n",
    "    names = []\n",
    "    for i in links_new:\n",
    "        split = i.split('/')\n",
    "        split2 = split[9].split('-')\n",
    "        name = []\n",
    "        for j in split2:\n",
    "            if not j in ['Match','Logs']:\n",
    "                name.append(j)\n",
    "        names.append(' '.join(name))\n",
    "    player_dict = dict(zip(names, links_new))\n",
    "    return player_dict"
   ]
  },
  {
   "cell_type": "code",
   "execution_count": null,
   "id": "4be212cd-30dd-4a9e-9291-6e21b6b49e07",
   "metadata": {},
   "outputs": [],
   "source": []
  }
 ],
 "metadata": {
  "kernelspec": {
   "display_name": "Python 3 (ipykernel)",
   "language": "python",
   "name": "python3"
  },
  "language_info": {
   "codemirror_mode": {
    "name": "ipython",
    "version": 3
   },
   "file_extension": ".py",
   "mimetype": "text/x-python",
   "name": "python",
   "nbconvert_exporter": "python",
   "pygments_lexer": "ipython3",
   "version": "3.11.7"
  }
 },
 "nbformat": 4,
 "nbformat_minor": 5
}
