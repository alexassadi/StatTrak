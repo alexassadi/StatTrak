{
 "cells": [
  {
   "cell_type": "code",
   "execution_count": 36,
   "metadata": {},
   "outputs": [],
   "source": [
    "from collections.abc import Iterable\n",
    "import pandas as pd\n",
    "from bs4 import BeautifulSoup\n",
    "import requests\n",
    "import lxml\n",
    "import datetime"
   ]
  },
  {
   "cell_type": "code",
   "execution_count": 44,
   "metadata": {},
   "outputs": [],
   "source": [
    "league_links = {'Premier League':'/9/Premier-League-Stats',\n",
    "                'La Liga':'/12/La-Liga-Stats',\n",
    "                'Serie A':'/11/Serie-A-Stats',\n",
    "                'Ligue 1':'/13/Ligue-1-Stats',\n",
    "                'Bundesliga':'/20/Bundesliga-Stats'}\n",
    "\n",
    "table_names = {'Premier League':f'results{datetime.datetime.now().year - 1}-{datetime.datetime.now().year}91_overall',\n",
    "                'La Liga':f'results{datetime.datetime.now().year - 1}-{datetime.datetime.now().year}121_overall',\n",
    "                'Serie A':f'results{datetime.datetime.now().year - 1}-{datetime.datetime.now().year}111_overall',\n",
    "                'Ligue 1':f'results{datetime.datetime.now().year - 1}-{datetime.datetime.now().year}131_overall',\n",
    "                'Bundesliga':f'results{datetime.datetime.now().year - 1}-{datetime.datetime.now().year}201_overall'}"
   ]
  },
  {
   "cell_type": "code",
   "execution_count": 45,
   "metadata": {},
   "outputs": [
    {
     "data": {
      "text/plain": [
       "{'Premier League': '/9/Premier-League-Stats',\n",
       " 'La Liga': '/12/La-Liga-Stats',\n",
       " 'Serie A': '/11/Serie-A-Stats',\n",
       " 'Ligue 1': '/13/Ligue-1-Stats',\n",
       " 'Bundesliga': '/20/Bundesliga-Stats'}"
      ]
     },
     "execution_count": 45,
     "metadata": {},
     "output_type": "execute_result"
    }
   ],
   "source": [
    "league_links"
   ]
  },
  {
   "cell_type": "code",
   "execution_count": 46,
   "metadata": {},
   "outputs": [],
   "source": [
    "choice = \"Premier League\"\n",
    "league_link = league_links[choice]\n",
    "table_name = table_names[choice]\n",
    "url = 'https://fbref.com/en/comps' + league_link\n",
    "page = requests.get(url)\n",
    "soup = BeautifulSoup(page.text, 'lxml')\n",
    "table = soup.find('table', id=table_name)"
   ]
  },
  {
   "cell_type": "code",
   "execution_count": 47,
   "metadata": {},
   "outputs": [
    {
     "data": {
      "text/plain": [
       "({'Manchester City': 'https://fbref.com/en/squads/b8fd03ef/Manchester-City-Stats',\n",
       "  'Arsenal': 'https://fbref.com/en/squads/18bb7c10/Arsenal-Stats',\n",
       "  'Liverpool': 'https://fbref.com/en/squads/822bd0ba/Liverpool-Stats',\n",
       "  'Aston Villa': 'https://fbref.com/en/squads/8602292d/Aston-Villa-Stats',\n",
       "  'Tottenham Hotspur': 'https://fbref.com/en/squads/361ca564/Tottenham-Hotspur-Stats',\n",
       "  'Newcastle United': 'https://fbref.com/en/squads/b2b47a98/Newcastle-United-Stats',\n",
       "  'Manchester United': 'https://fbref.com/en/squads/19538871/Manchester-United-Stats',\n",
       "  'West Ham United': 'https://fbref.com/en/squads/7c21e445/West-Ham-United-Stats',\n",
       "  'Chelsea': 'https://fbref.com/en/squads/cff3d9bb/Chelsea-Stats',\n",
       "  'Brighton and Hove Albion': 'https://fbref.com/en/squads/d07537b9/Brighton-and-Hove-Albion-Stats',\n",
       "  'Wolverhampton Wanderers': 'https://fbref.com/en/squads/8cec06e1/Wolverhampton-Wanderers-Stats',\n",
       "  'Fulham': 'https://fbref.com/en/squads/fd962109/Fulham-Stats',\n",
       "  'Bournemouth': 'https://fbref.com/en/squads/4ba7cbea/Bournemouth-Stats',\n",
       "  'Crystal Palace': 'https://fbref.com/en/squads/47c64c55/Crystal-Palace-Stats',\n",
       "  'Brentford': 'https://fbref.com/en/squads/cd051869/Brentford-Stats',\n",
       "  'Everton': 'https://fbref.com/en/squads/d3fd31cc/Everton-Stats',\n",
       "  'Nottingham Forest': 'https://fbref.com/en/squads/e4a775cb/Nottingham-Forest-Stats',\n",
       "  'Luton Town': 'https://fbref.com/en/squads/e297cd13/Luton-Town-Stats',\n",
       "  'Burnley': 'https://fbref.com/en/squads/943e8050/Burnley-Stats',\n",
       "  'Sheffield United': 'https://fbref.com/en/squads/1df6b87e/Sheffield-United-Stats'},\n",
       " 'https://fbref.com/en/comps/9/Premier-League-Stats')"
      ]
     },
     "execution_count": 47,
     "metadata": {},
     "output_type": "execute_result"
    }
   ],
   "source": [
    "def get_league_links():\n",
    "    links = []\n",
    "    for i in table.find_all('a'):\n",
    "        html = i.get('href')\n",
    "        if 'squads' in html:\n",
    "            links.append(html)\n",
    "            \n",
    "    for i in range(len(links)):\n",
    "        links[i] = 'https://fbref.com' + links[i]\n",
    "        \n",
    "    links\n",
    "    \n",
    "    teams = []\n",
    "    for link in links:\n",
    "        split = link.split('/')\n",
    "        split = split[-1]\n",
    "        split = split.split('-')\n",
    "        split = split[:-1]\n",
    "        team = (' ').join(split)\n",
    "        teams.append(team)\n",
    "    teams\n",
    "    \n",
    "    team_links = {}\n",
    "    for i in range(len(teams)):\n",
    "        team_links[teams[i]] = links[i]\n",
    "    team_links\n",
    "    return team_links, url\n"
   ]
  },
  {
   "cell_type": "code",
   "execution_count": null,
   "metadata": {},
   "outputs": [],
   "source": []
  }
 ],
 "metadata": {
  "kernelspec": {
   "display_name": "Python 3 (ipykernel)",
   "language": "python",
   "name": "python3"
  },
  "language_info": {
   "codemirror_mode": {
    "name": "ipython",
    "version": 3
   },
   "file_extension": ".py",
   "mimetype": "text/x-python",
   "name": "python",
   "nbconvert_exporter": "python",
   "pygments_lexer": "ipython3",
   "version": "3.11.7"
  }
 },
 "nbformat": 4,
 "nbformat_minor": 4
}
